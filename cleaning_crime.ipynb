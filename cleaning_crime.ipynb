{
  "nbformat": 4,
  "nbformat_minor": 0,
  "metadata": {
    "colab": {
      "name": "cleaning_crime.ipynb",
      "provenance": [],
      "collapsed_sections": [],
      "authorship_tag": "ABX9TyNjwvYgt/clexRE8eRzS8tm",
      "include_colab_link": true
    },
    "kernelspec": {
      "name": "python3",
      "display_name": "Python 3"
    }
  },
  "cells": [
    {
      "cell_type": "markdown",
      "metadata": {
        "id": "view-in-github",
        "colab_type": "text"
      },
      "source": [
        "<a href=\"https://colab.research.google.com/github/taimur1871/Coursera_Capstone/blob/master/cleaning_crime.ipynb\" target=\"_parent\"><img src=\"https://colab.research.google.com/assets/colab-badge.svg\" alt=\"Open In Colab\"/></a>"
      ]
    },
    {
      "cell_type": "code",
      "metadata": {
        "id": "hVeblP7jR7C3",
        "colab_type": "code",
        "outputId": "bd2ee2ab-b38e-4e26-a478-d91b5f57d08c",
        "colab": {
          "base_uri": "https://localhost:8080/",
          "height": 34
        }
      },
      "source": [
        "# importing the required modules for the project\n",
        "import numpy as np\n",
        "import pandas as pd\n",
        "\n",
        "import folium # map rendering library\n",
        "\n",
        "print('Libraries imported.')"
      ],
      "execution_count": 0,
      "outputs": [
        {
          "output_type": "stream",
          "text": [
            "Libraries imported.\n"
          ],
          "name": "stdout"
        }
      ]
    },
    {
      "cell_type": "markdown",
      "metadata": {
        "id": "MfuWFhq7R7Et",
        "colab_type": "text"
      },
      "source": [
        "Getting crime data"
      ]
    },
    {
      "cell_type": "code",
      "metadata": {
        "id": "ftudEW1EWZ3r",
        "colab_type": "code",
        "outputId": "0a1362ae-62e5-4c8f-8f80-e85a198d3f38",
        "colab": {
          "base_uri": "https://localhost:8080/",
          "height": 204
        }
      },
      "source": [
        "# analyzing crime data, this dataset has been preprocessed using another script that is in the repository\n",
        "df_crime = pd.read_csv('crime.csv')\n",
        "df_crime.drop(['Unnamed: 0'], axis = 1, inplace = True)\n",
        "df_crime.head()"
      ],
      "execution_count": 0,
      "outputs": [
        {
          "output_type": "execute_result",
          "data": {
            "text/html": [
              "<div>\n",
              "<style scoped>\n",
              "    .dataframe tbody tr th:only-of-type {\n",
              "        vertical-align: middle;\n",
              "    }\n",
              "\n",
              "    .dataframe tbody tr th {\n",
              "        vertical-align: top;\n",
              "    }\n",
              "\n",
              "    .dataframe thead th {\n",
              "        text-align: right;\n",
              "    }\n",
              "</style>\n",
              "<table border=\"1\" class=\"dataframe\">\n",
              "  <thead>\n",
              "    <tr style=\"text-align: right;\">\n",
              "      <th></th>\n",
              "      <th>OFFENSE_ID</th>\n",
              "      <th>OFFENSE_TYPE_ID</th>\n",
              "      <th>OFFENSE_CATEGORY_ID</th>\n",
              "      <th>REPORTED_DATE</th>\n",
              "      <th>INCIDENT_ADDRESS</th>\n",
              "      <th>GEO_LON</th>\n",
              "      <th>GEO_LAT</th>\n",
              "      <th>PRECINCT_ID</th>\n",
              "      <th>NEIGHBORHOOD_ID</th>\n",
              "      <th>year</th>\n",
              "    </tr>\n",
              "  </thead>\n",
              "  <tbody>\n",
              "    <tr>\n",
              "      <th>0</th>\n",
              "      <td>20196012240230800</td>\n",
              "      <td>theft-from-bldg</td>\n",
              "      <td>larceny</td>\n",
              "      <td>12/9/2019 1:35:00 PM</td>\n",
              "      <td>1350 N IRVING ST</td>\n",
              "      <td>-105.029208</td>\n",
              "      <td>39.738134</td>\n",
              "      <td>122</td>\n",
              "      <td>west-colfax</td>\n",
              "      <td>2019-12-09</td>\n",
              "    </tr>\n",
              "    <tr>\n",
              "      <th>1</th>\n",
              "      <td>2019738697239900</td>\n",
              "      <td>theft-other</td>\n",
              "      <td>larceny</td>\n",
              "      <td>11/20/2019 12:58:00 PM</td>\n",
              "      <td>833 N JERSEY ST</td>\n",
              "      <td>-104.919802</td>\n",
              "      <td>39.729818</td>\n",
              "      <td>222</td>\n",
              "      <td>montclair</td>\n",
              "      <td>2019-11-20</td>\n",
              "    </tr>\n",
              "    <tr>\n",
              "      <th>2</th>\n",
              "      <td>201985551220300</td>\n",
              "      <td>burglary-business-by-force</td>\n",
              "      <td>burglary</td>\n",
              "      <td>2/7/2019 10:13:00 AM</td>\n",
              "      <td>4655 W KENTUCKY AVE</td>\n",
              "      <td>-105.047350</td>\n",
              "      <td>39.700625</td>\n",
              "      <td>412</td>\n",
              "      <td>westwood</td>\n",
              "      <td>2019-02-07</td>\n",
              "    </tr>\n",
              "    <tr>\n",
              "      <th>3</th>\n",
              "      <td>2020131877570700</td>\n",
              "      <td>criminal-trespassing</td>\n",
              "      <td>all-other-crimes</td>\n",
              "      <td>2/29/2020 9:16:00 PM</td>\n",
              "      <td>2222 LAWRENCE ST</td>\n",
              "      <td>-104.988366</td>\n",
              "      <td>39.754698</td>\n",
              "      <td>611</td>\n",
              "      <td>five-points</td>\n",
              "      <td>2020-02-29</td>\n",
              "    </tr>\n",
              "    <tr>\n",
              "      <th>4</th>\n",
              "      <td>2019126652570700</td>\n",
              "      <td>criminal-trespassing</td>\n",
              "      <td>all-other-crimes</td>\n",
              "      <td>2/26/2019 10:36:00 AM</td>\n",
              "      <td>1010 W COLFAX AVE</td>\n",
              "      <td>-105.000542</td>\n",
              "      <td>39.739501</td>\n",
              "      <td>123</td>\n",
              "      <td>lincoln-park</td>\n",
              "      <td>2019-02-26</td>\n",
              "    </tr>\n",
              "  </tbody>\n",
              "</table>\n",
              "</div>"
            ],
            "text/plain": [
              "          OFFENSE_ID             OFFENSE_TYPE_ID  ... NEIGHBORHOOD_ID        year\n",
              "0  20196012240230800             theft-from-bldg  ...     west-colfax  2019-12-09\n",
              "1   2019738697239900                 theft-other  ...       montclair  2019-11-20\n",
              "2    201985551220300  burglary-business-by-force  ...        westwood  2019-02-07\n",
              "3   2020131877570700        criminal-trespassing  ...     five-points  2020-02-29\n",
              "4   2019126652570700        criminal-trespassing  ...    lincoln-park  2019-02-26\n",
              "\n",
              "[5 rows x 10 columns]"
            ]
          },
          "metadata": {
            "tags": []
          },
          "execution_count": 10
        }
      ]
    },
    {
      "cell_type": "code",
      "metadata": {
        "id": "wcmjhWyk0lg5",
        "colab_type": "code",
        "outputId": "caeaf191-9dac-4282-8ef0-c2e43ab8e684",
        "colab": {
          "base_uri": "https://localhost:8080/",
          "height": 136
        }
      },
      "source": [
        "# grouping the crime types according to neighborhood\n",
        "df_crime_group = df_crime.groupby(['NEIGHBORHOOD_ID'], axis=0).count()\n",
        "df_crime_group = df_crime_group['OFFENSE_ID']"
      ],
      "execution_count": 0,
      "outputs": [
        {
          "output_type": "execute_result",
          "data": {
            "text/plain": [
              "NEIGHBORHOOD_ID\n",
              "athmar-park    1030\n",
              "auraria         826\n",
              "baker          1509\n",
              "barnum          793\n",
              "barnum-west     443\n",
              "Name: OFFENSE_ID, dtype: int64"
            ]
          },
          "metadata": {
            "tags": []
          },
          "execution_count": 24
        }
      ]
    },
    {
      "cell_type": "code",
      "metadata": {
        "id": "Tarv4p4V43oD",
        "colab_type": "code",
        "outputId": "b23edb12-dda1-450d-c887-a00fa274ca9b",
        "colab": {
          "base_uri": "https://localhost:8080/",
          "height": 34
        }
      },
      "source": [
        "# sorting values\n",
        "df_1 = df_crime_group.sort_values(axis=0, ascending = False)\n",
        "\n",
        "# getting unique values\n",
        "df_2 = df_crime.drop_duplicates(['NEIGHBORHOOD_ID'])\n",
        "\n",
        "# getting neighborhood names and coordinates\n",
        "df_3 = df_2[['NEIGHBORHOOD_ID','GEO_LAT', 'GEO_LON']]"
      ],
      "execution_count": 0,
      "outputs": [
        {
          "output_type": "execute_result",
          "data": {
            "text/plain": [
              "pandas.core.series.Series"
            ]
          },
          "metadata": {
            "tags": []
          },
          "execution_count": 21
        }
      ]
    },
    {
      "cell_type": "code",
      "metadata": {
        "id": "57dHwyhM0wRZ",
        "colab_type": "code",
        "outputId": "1b111338-3f71-4aa5-b3d4-6379c2e25983",
        "colab": {
          "base_uri": "https://localhost:8080/",
          "height": 204
        }
      },
      "source": [
        "# joining the two tables to create one dataframe\n",
        "df_4 = df_3.merge(df_crime_group, how = 'inner', left_on = 'NEIGHBORHOOD_ID', right_on='NEIGHBORHOOD_ID')\n",
        "df_4.drop(['total_crime'], axis=1, inplace=True)\n",
        "df_4.head()"
      ],
      "execution_count": 0,
      "outputs": [
        {
          "output_type": "execute_result",
          "data": {
            "text/html": [
              "<div>\n",
              "<style scoped>\n",
              "    .dataframe tbody tr th:only-of-type {\n",
              "        vertical-align: middle;\n",
              "    }\n",
              "\n",
              "    .dataframe tbody tr th {\n",
              "        vertical-align: top;\n",
              "    }\n",
              "\n",
              "    .dataframe thead th {\n",
              "        text-align: right;\n",
              "    }\n",
              "</style>\n",
              "<table border=\"1\" class=\"dataframe\">\n",
              "  <thead>\n",
              "    <tr style=\"text-align: right;\">\n",
              "      <th></th>\n",
              "      <th>NEIGHBORHOOD_ID</th>\n",
              "      <th>GEO_LAT</th>\n",
              "      <th>GEO_LON</th>\n",
              "      <th>OFFENSE_ID</th>\n",
              "    </tr>\n",
              "  </thead>\n",
              "  <tbody>\n",
              "    <tr>\n",
              "      <th>0</th>\n",
              "      <td>west-colfax</td>\n",
              "      <td>39.738134</td>\n",
              "      <td>-105.029208</td>\n",
              "      <td>1867</td>\n",
              "    </tr>\n",
              "    <tr>\n",
              "      <th>1</th>\n",
              "      <td>montclair</td>\n",
              "      <td>39.729818</td>\n",
              "      <td>-104.919802</td>\n",
              "      <td>551</td>\n",
              "    </tr>\n",
              "    <tr>\n",
              "      <th>2</th>\n",
              "      <td>westwood</td>\n",
              "      <td>39.700625</td>\n",
              "      <td>-105.047350</td>\n",
              "      <td>1813</td>\n",
              "    </tr>\n",
              "    <tr>\n",
              "      <th>3</th>\n",
              "      <td>five-points</td>\n",
              "      <td>39.754698</td>\n",
              "      <td>-104.988366</td>\n",
              "      <td>5704</td>\n",
              "    </tr>\n",
              "    <tr>\n",
              "      <th>4</th>\n",
              "      <td>lincoln-park</td>\n",
              "      <td>39.739501</td>\n",
              "      <td>-105.000542</td>\n",
              "      <td>2027</td>\n",
              "    </tr>\n",
              "  </tbody>\n",
              "</table>\n",
              "</div>"
            ],
            "text/plain": [
              "  NEIGHBORHOOD_ID    GEO_LAT     GEO_LON  OFFENSE_ID\n",
              "0     west-colfax  39.738134 -105.029208        1867\n",
              "1       montclair  39.729818 -104.919802         551\n",
              "2        westwood  39.700625 -105.047350        1813\n",
              "3     five-points  39.754698 -104.988366        5704\n",
              "4    lincoln-park  39.739501 -105.000542        2027"
            ]
          },
          "metadata": {
            "tags": []
          },
          "execution_count": 40
        }
      ]
    },
    {
      "cell_type": "code",
      "metadata": {
        "id": "QjxlH2W63KBl",
        "colab_type": "code",
        "colab": {}
      },
      "source": [
        "# saving to csv\n",
        "df_4.to_csv('/content/crime_group.csv')"
      ],
      "execution_count": 0,
      "outputs": []
    }
  ]
}